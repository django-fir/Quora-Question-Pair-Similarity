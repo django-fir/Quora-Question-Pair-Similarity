{
  "cells": [
    {
      "cell_type": "markdown",
      "metadata": {
        "id": "J6rnhr2Xs5Vs"
      },
      "source": [
        "<h1 style=\"text-align:center;font-size:30px;\" > Quora Question Pairs </h1>"
      ]
    },
    {
      "cell_type": "markdown",
      "metadata": {
        "id": "o9fciGc7s5Vu"
      },
      "source": [
        "<h1> 1. Business Problem </h1>"
      ]
    },
    {
      "cell_type": "markdown",
      "metadata": {
        "id": "LRzmxjKxs5Vw"
      },
      "source": [
        "<h2> 1.1 Description </h2>"
      ]
    },
    {
      "cell_type": "markdown",
      "metadata": {
        "id": "1nlaIYe9s5Vx"
      },
      "source": [
        "<p>Quora is a place to gain and share knowledge—about anything. It’s a platform to ask questions and connect with people who contribute unique insights and quality answers. This empowers people to learn from each other and to better understand the world.</p>\n",
        "<p>\n",
        "Over 100 million people visit Quora every month, so it's no surprise that many people ask similarly worded questions. Multiple questions with the same intent can cause seekers to spend more time finding the best answer to their question, and make writers feel they need to answer multiple versions of the same question. Quora values canonical questions because they provide a better experience to active seekers and writers, and offer more value to both of these groups in the long term.\n",
        "</p>\n",
        "<br>\n",
        "> Credits: Kaggle\n"
      ]
    },
    {
      "cell_type": "markdown",
      "metadata": {
        "id": "wdWP5SdFs5Vy"
      },
      "source": [
        "__ Problem Statement __\n",
        "- Identify which questions asked on Quora are duplicates of questions that have already been asked.\n",
        "- This could be useful to instantly provide answers to questions that have already been answered.\n",
        "- We are tasked with predicting whether a pair of questions are duplicates or not."
      ]
    },
    {
      "cell_type": "markdown",
      "metadata": {
        "id": "34hYn911s5V0"
      },
      "source": [
        "<h2> 1.2 Sources/Useful Links</h2>"
      ]
    },
    {
      "cell_type": "markdown",
      "metadata": {
        "id": "7YIjqVPgs5V4"
      },
      "source": [
        "- Source : https://www.kaggle.com/c/quora-question-pairs\n",
        "<br><br>____ Useful Links ____\n",
        "- Discussions : https://www.kaggle.com/anokas/data-analysis-xgboost-starter-0-35460-lb/comments\n",
        "- Kaggle Winning Solution and other approaches: https://www.dropbox.com/sh/93968nfnrzh8bp5/AACZdtsApc1QSTQc7X0H3QZ5a?dl=0\n",
        "- Blog 1 : https://engineering.quora.com/Semantic-Question-Matching-with-Deep-Learning\n",
        "- Blog 2 : https://towardsdatascience.com/identifying-duplicate-questions-on-quora-top-12-on-kaggle-4c1cf93f1c30"
      ]
    },
    {
      "cell_type": "markdown",
      "metadata": {
        "id": "jlNRUR4Ws5V5"
      },
      "source": [
        "<h2>1.3 Real world/Business Objectives and Constraints </h2>"
      ]
    },
    {
      "cell_type": "markdown",
      "metadata": {
        "id": "Hv6fd7txs5V7"
      },
      "source": [
        "1. The cost of a mis-classification can be very high.\n",
        "2. You would want a probability of a pair of questions to be duplicates so that you can choose any threshold of choice.\n",
        "3. No strict latency concerns.\n",
        "4. Interpretability is partially important."
      ]
    },
    {
      "cell_type": "markdown",
      "metadata": {
        "id": "VIam5Aaks5V9"
      },
      "source": [
        "<h1>2. Machine Learning Probelm </h1>"
      ]
    },
    {
      "cell_type": "markdown",
      "metadata": {
        "id": "jnty9Bhls5V-"
      },
      "source": [
        "<h2> 2.1 Data </h2>"
      ]
    },
    {
      "cell_type": "markdown",
      "metadata": {
        "id": "rty1PZv3s5V_"
      },
      "source": [
        "<h3> 2.1.1 Data Overview </h3>"
      ]
    },
    {
      "cell_type": "markdown",
      "metadata": {
        "id": "-gu8pAt3s5WB"
      },
      "source": [
        "<p>\n",
        "- Data will be in a file Train.csv <br>\n",
        "- Train.csv contains 5 columns : qid1, qid2, question1, question2, is_duplicate <br>\n",
        "- Size of Train.csv - 60MB <br>\n",
        "- Number of rows in Train.csv = 404,290\n",
        "</p>"
      ]
    },
    {
      "cell_type": "markdown",
      "metadata": {
        "id": "v9grbSNds5WC"
      },
      "source": [
        "<h3> 2.1.2 Example Data point </h3>"
      ]
    },
    {
      "cell_type": "markdown",
      "metadata": {
        "id": "9WEQ-lSxs5WE"
      },
      "source": [
        "<pre>\n",
        "\"id\",\"qid1\",\"qid2\",\"question1\",\"question2\",\"is_duplicate\"\n",
        "\"0\",\"1\",\"2\",\"What is the step by step guide to invest in share market in india?\",\"What is the step by step guide to invest in share market?\",\"0\"\n",
        "\"1\",\"3\",\"4\",\"What is the story of Kohinoor (Koh-i-Noor) Diamond?\",\"What would happen if the Indian government stole the Kohinoor (Koh-i-Noor) diamond back?\",\"0\"\n",
        "\"7\",\"15\",\"16\",\"How can I be a good geologist?\",\"What should I do to be a great geologist?\",\"1\"\n",
        "\"11\",\"23\",\"24\",\"How do I read and find my YouTube comments?\",\"How can I see all my Youtube comments?\",\"1\"\n",
        "</pre>"
      ]
    },
    {
      "cell_type": "markdown",
      "metadata": {
        "id": "9qPVfeEjs5WF"
      },
      "source": [
        "<h2> 2.2 Mapping the real world problem to an ML problem </h2>"
      ]
    },
    {
      "cell_type": "markdown",
      "metadata": {
        "id": "JfBn0LYPs5WI"
      },
      "source": [
        "<h3> 2.2.1 Type of Machine Leaning Problem </h3>"
      ]
    },
    {
      "cell_type": "markdown",
      "metadata": {
        "id": "QEqiUD_Ps5WJ"
      },
      "source": [
        "<p> It is a binary classification problem, for a given pair of questions we need to predict if they are duplicate or not. </p>"
      ]
    },
    {
      "cell_type": "markdown",
      "metadata": {
        "id": "keZOL1las5WL"
      },
      "source": [
        "<h3> 2.2.2 Performance Metric </h3>"
      ]
    },
    {
      "cell_type": "markdown",
      "metadata": {
        "id": "YHktaBrMs5WN"
      },
      "source": [
        "Source: https://www.kaggle.com/c/quora-question-pairs#evaluation\n",
        "\n",
        "Metric(s):\n",
        "* log-loss : https://www.kaggle.com/wiki/LogarithmicLoss\n",
        "* Binary Confusion Matrix"
      ]
    },
    {
      "cell_type": "markdown",
      "metadata": {
        "id": "FmDMBWJjs5WO"
      },
      "source": [
        "<h2> 2.3 Train and Test Construction </h2>"
      ]
    },
    {
      "cell_type": "markdown",
      "metadata": {
        "id": "l7PcvKQss5WQ"
      },
      "source": [
        "<p>  </p>\n",
        "<p> We build train and test by randomly splitting in the ratio of 70:30 or 80:20 whatever we choose as we have sufficient points to work with. </p>"
      ]
    },
    {
      "cell_type": "code",
      "execution_count": null,
      "metadata": {
        "colab": {
          "base_uri": "https://localhost:8080/",
          "height": 90
        },
        "id": "DmkPLU8iteQJ",
        "outputId": "0c42b25e-14ad-42ae-aa3f-203abf1d688a"
      },
      "outputs": [
        {
          "output_type": "display_data",
          "data": {
            "text/plain": [
              "<IPython.core.display.HTML object>"
            ],
            "text/html": [
              "\n",
              "     <input type=\"file\" id=\"files-b6ce278b-2826-4162-ade6-e317ff0f1660\" name=\"files[]\" multiple disabled\n",
              "        style=\"border:none\" />\n",
              "     <output id=\"result-b6ce278b-2826-4162-ade6-e317ff0f1660\">\n",
              "      Upload widget is only available when the cell has been executed in the\n",
              "      current browser session. Please rerun this cell to enable.\n",
              "      </output>\n",
              "      <script>// Copyright 2017 Google LLC\n",
              "//\n",
              "// Licensed under the Apache License, Version 2.0 (the \"License\");\n",
              "// you may not use this file except in compliance with the License.\n",
              "// You may obtain a copy of the License at\n",
              "//\n",
              "//      http://www.apache.org/licenses/LICENSE-2.0\n",
              "//\n",
              "// Unless required by applicable law or agreed to in writing, software\n",
              "// distributed under the License is distributed on an \"AS IS\" BASIS,\n",
              "// WITHOUT WARRANTIES OR CONDITIONS OF ANY KIND, either express or implied.\n",
              "// See the License for the specific language governing permissions and\n",
              "// limitations under the License.\n",
              "\n",
              "/**\n",
              " * @fileoverview Helpers for google.colab Python module.\n",
              " */\n",
              "(function(scope) {\n",
              "function span(text, styleAttributes = {}) {\n",
              "  const element = document.createElement('span');\n",
              "  element.textContent = text;\n",
              "  for (const key of Object.keys(styleAttributes)) {\n",
              "    element.style[key] = styleAttributes[key];\n",
              "  }\n",
              "  return element;\n",
              "}\n",
              "\n",
              "// Max number of bytes which will be uploaded at a time.\n",
              "const MAX_PAYLOAD_SIZE = 100 * 1024;\n",
              "\n",
              "function _uploadFiles(inputId, outputId) {\n",
              "  const steps = uploadFilesStep(inputId, outputId);\n",
              "  const outputElement = document.getElementById(outputId);\n",
              "  // Cache steps on the outputElement to make it available for the next call\n",
              "  // to uploadFilesContinue from Python.\n",
              "  outputElement.steps = steps;\n",
              "\n",
              "  return _uploadFilesContinue(outputId);\n",
              "}\n",
              "\n",
              "// This is roughly an async generator (not supported in the browser yet),\n",
              "// where there are multiple asynchronous steps and the Python side is going\n",
              "// to poll for completion of each step.\n",
              "// This uses a Promise to block the python side on completion of each step,\n",
              "// then passes the result of the previous step as the input to the next step.\n",
              "function _uploadFilesContinue(outputId) {\n",
              "  const outputElement = document.getElementById(outputId);\n",
              "  const steps = outputElement.steps;\n",
              "\n",
              "  const next = steps.next(outputElement.lastPromiseValue);\n",
              "  return Promise.resolve(next.value.promise).then((value) => {\n",
              "    // Cache the last promise value to make it available to the next\n",
              "    // step of the generator.\n",
              "    outputElement.lastPromiseValue = value;\n",
              "    return next.value.response;\n",
              "  });\n",
              "}\n",
              "\n",
              "/**\n",
              " * Generator function which is called between each async step of the upload\n",
              " * process.\n",
              " * @param {string} inputId Element ID of the input file picker element.\n",
              " * @param {string} outputId Element ID of the output display.\n",
              " * @return {!Iterable<!Object>} Iterable of next steps.\n",
              " */\n",
              "function* uploadFilesStep(inputId, outputId) {\n",
              "  const inputElement = document.getElementById(inputId);\n",
              "  inputElement.disabled = false;\n",
              "\n",
              "  const outputElement = document.getElementById(outputId);\n",
              "  outputElement.innerHTML = '';\n",
              "\n",
              "  const pickedPromise = new Promise((resolve) => {\n",
              "    inputElement.addEventListener('change', (e) => {\n",
              "      resolve(e.target.files);\n",
              "    });\n",
              "  });\n",
              "\n",
              "  const cancel = document.createElement('button');\n",
              "  inputElement.parentElement.appendChild(cancel);\n",
              "  cancel.textContent = 'Cancel upload';\n",
              "  const cancelPromise = new Promise((resolve) => {\n",
              "    cancel.onclick = () => {\n",
              "      resolve(null);\n",
              "    };\n",
              "  });\n",
              "\n",
              "  // Wait for the user to pick the files.\n",
              "  const files = yield {\n",
              "    promise: Promise.race([pickedPromise, cancelPromise]),\n",
              "    response: {\n",
              "      action: 'starting',\n",
              "    }\n",
              "  };\n",
              "\n",
              "  cancel.remove();\n",
              "\n",
              "  // Disable the input element since further picks are not allowed.\n",
              "  inputElement.disabled = true;\n",
              "\n",
              "  if (!files) {\n",
              "    return {\n",
              "      response: {\n",
              "        action: 'complete',\n",
              "      }\n",
              "    };\n",
              "  }\n",
              "\n",
              "  for (const file of files) {\n",
              "    const li = document.createElement('li');\n",
              "    li.append(span(file.name, {fontWeight: 'bold'}));\n",
              "    li.append(span(\n",
              "        `(${file.type || 'n/a'}) - ${file.size} bytes, ` +\n",
              "        `last modified: ${\n",
              "            file.lastModifiedDate ? file.lastModifiedDate.toLocaleDateString() :\n",
              "                                    'n/a'} - `));\n",
              "    const percent = span('0% done');\n",
              "    li.appendChild(percent);\n",
              "\n",
              "    outputElement.appendChild(li);\n",
              "\n",
              "    const fileDataPromise = new Promise((resolve) => {\n",
              "      const reader = new FileReader();\n",
              "      reader.onload = (e) => {\n",
              "        resolve(e.target.result);\n",
              "      };\n",
              "      reader.readAsArrayBuffer(file);\n",
              "    });\n",
              "    // Wait for the data to be ready.\n",
              "    let fileData = yield {\n",
              "      promise: fileDataPromise,\n",
              "      response: {\n",
              "        action: 'continue',\n",
              "      }\n",
              "    };\n",
              "\n",
              "    // Use a chunked sending to avoid message size limits. See b/62115660.\n",
              "    let position = 0;\n",
              "    do {\n",
              "      const length = Math.min(fileData.byteLength - position, MAX_PAYLOAD_SIZE);\n",
              "      const chunk = new Uint8Array(fileData, position, length);\n",
              "      position += length;\n",
              "\n",
              "      const base64 = btoa(String.fromCharCode.apply(null, chunk));\n",
              "      yield {\n",
              "        response: {\n",
              "          action: 'append',\n",
              "          file: file.name,\n",
              "          data: base64,\n",
              "        },\n",
              "      };\n",
              "\n",
              "      let percentDone = fileData.byteLength === 0 ?\n",
              "          100 :\n",
              "          Math.round((position / fileData.byteLength) * 100);\n",
              "      percent.textContent = `${percentDone}% done`;\n",
              "\n",
              "    } while (position < fileData.byteLength);\n",
              "  }\n",
              "\n",
              "  // All done.\n",
              "  yield {\n",
              "    response: {\n",
              "      action: 'complete',\n",
              "    }\n",
              "  };\n",
              "}\n",
              "\n",
              "scope.google = scope.google || {};\n",
              "scope.google.colab = scope.google.colab || {};\n",
              "scope.google.colab._files = {\n",
              "  _uploadFiles,\n",
              "  _uploadFilesContinue,\n",
              "};\n",
              "})(self);\n",
              "</script> "
            ]
          },
          "metadata": {}
        },
        {
          "output_type": "stream",
          "name": "stdout",
          "text": [
            "Saving kaggle.json to kaggle.json\n"
          ]
        },
        {
          "output_type": "execute_result",
          "data": {
            "text/plain": [
              "{'kaggle.json': b'{\"username\":\"govardhanreddysn\",\"key\":\"e5a79653879c0cb1d432d78e0a587c28\"}'}"
            ]
          },
          "metadata": {},
          "execution_count": 1
        }
      ],
      "source": [
        "from google.colab import files\n",
        "\n",
        "files.upload()"
      ]
    },
    {
      "cell_type": "code",
      "execution_count": null,
      "metadata": {
        "id": "pyeFLvPeotbt"
      },
      "outputs": [],
      "source": [
        "!mkdir ~/.kaggle"
      ]
    },
    {
      "cell_type": "code",
      "execution_count": null,
      "metadata": {
        "id": "toUwW7igo1Mc"
      },
      "outputs": [],
      "source": [
        "!cp kaggle.json ~/.kaggle"
      ]
    },
    {
      "cell_type": "code",
      "execution_count": null,
      "metadata": {
        "id": "3cBUbjSfo4Z9"
      },
      "outputs": [],
      "source": [
        "! chmod 600 ~/.kaggle/kaggle.json"
      ]
    },
    {
      "cell_type": "code",
      "execution_count": null,
      "metadata": {
        "colab": {
          "base_uri": "https://localhost:8080/"
        },
        "id": "9I_e11u-tdQB",
        "outputId": "73295794-d37d-4f0a-9845-a5723cd6aa98"
      },
      "outputs": [
        {
          "output_type": "stream",
          "name": "stdout",
          "text": [
            "Downloading quora-question-pairs.zip to /content\n",
            "100% 309M/309M [00:02<00:00, 150MB/s]\n",
            "100% 309M/309M [00:02<00:00, 158MB/s]\n"
          ]
        }
      ],
      "source": [
        "!kaggle competitions download -c quora-question-pairs"
      ]
    },
    {
      "cell_type": "code",
      "execution_count": null,
      "metadata": {
        "colab": {
          "base_uri": "https://localhost:8080/"
        },
        "id": "O4eoONaBuOzW",
        "outputId": "57e4bace-28b0-413d-c57f-6d7d115dd037"
      },
      "outputs": [
        {
          "output_type": "stream",
          "name": "stdout",
          "text": [
            "Archive:  /content/quora-question-pairs.zip\n",
            "  inflating: sample_submission.csv.zip  \n",
            "  inflating: test.csv                \n",
            "  inflating: test.csv.zip            \n",
            "  inflating: train.csv.zip           \n"
          ]
        }
      ],
      "source": [
        "!unzip /content/quora-question-pairs.zip"
      ]
    },
    {
      "cell_type": "code",
      "execution_count": null,
      "metadata": {
        "colab": {
          "base_uri": "https://localhost:8080/"
        },
        "id": "QVy5H92Durvk",
        "outputId": "547042d5-cdbe-4362-fcc6-a3c9d30323eb"
      },
      "outputs": [
        {
          "output_type": "stream",
          "name": "stdout",
          "text": [
            "Archive:  /content/train.csv.zip\n",
            "  inflating: train.csv               \n"
          ]
        }
      ],
      "source": [
        "!unzip /content/train.csv.zip"
      ]
    },
    {
      "cell_type": "markdown",
      "metadata": {
        "id": "cW_MVIlps5WQ"
      },
      "source": [
        "<h1>3. Exploratory Data Analysis </h1>"
      ]
    },
    {
      "cell_type": "code",
      "execution_count": null,
      "metadata": {
        "colab": {
          "base_uri": "https://localhost:8080/"
        },
        "id": "fLlVnU4zZ4Gb",
        "outputId": "d231431a-29fb-401c-ca44-90e53fc47751"
      },
      "outputs": [
        {
          "output_type": "stream",
          "name": "stdout",
          "text": [
            "Collecting distance\n",
            "  Downloading Distance-0.1.3.tar.gz (180 kB)\n",
            "\u001b[2K     \u001b[90m━━━━━━━━━━━━━━━━━━━━━━━━━━━━━━━━━━━━━━━━\u001b[0m \u001b[32m180.3/180.3 kB\u001b[0m \u001b[31m1.7 MB/s\u001b[0m eta \u001b[36m0:00:00\u001b[0m\n",
            "\u001b[?25h  Preparing metadata (setup.py) ... \u001b[?25l\u001b[?25hdone\n",
            "Building wheels for collected packages: distance\n",
            "  Building wheel for distance (setup.py) ... \u001b[?25l\u001b[?25hdone\n",
            "  Created wheel for distance: filename=Distance-0.1.3-py3-none-any.whl size=16258 sha256=3c9974813b5b8b489cf6e4ee729d4fd730ce9a58d7adaff29b0ff5be592b10be\n",
            "  Stored in directory: /root/.cache/pip/wheels/e8/bb/de/f71bf63559ea9a921059a5405806f7ff6ed612a9231c4a9309\n",
            "Successfully built distance\n",
            "Installing collected packages: distance\n",
            "Successfully installed distance-0.1.3\n"
          ]
        }
      ],
      "source": [
        "!pip install distance"
      ]
    },
    {
      "cell_type": "code",
      "execution_count": null,
      "metadata": {
        "colab": {
          "base_uri": "https://localhost:8080/"
        },
        "id": "vHkyUQOXGvbO",
        "outputId": "69fffb70-3fd6-4acd-d281-0bd29bf3bea0"
      },
      "outputs": [
        {
          "output_type": "stream",
          "name": "stdout",
          "text": [
            "Mounted at /content/drive\n"
          ]
        }
      ],
      "source": [
        "from google.colab import drive\n",
        "drive.mount('/content/drive')"
      ]
    },
    {
      "cell_type": "code",
      "source": [],
      "metadata": {
        "id": "TzP1c9vvUvu0"
      },
      "execution_count": null,
      "outputs": []
    },
    {
      "cell_type": "code",
      "source": [
        "!cp /content/train.csv /content/drive/MyDrive/Project_gova/"
      ],
      "metadata": {
        "id": "OdM2JFSMIdCT"
      },
      "execution_count": null,
      "outputs": []
    },
    {
      "cell_type": "code",
      "execution_count": null,
      "metadata": {
        "colab": {
          "base_uri": "https://localhost:8080/",
          "height": 17
        },
        "id": "sNzZdmBJs5WS",
        "outputId": "7fdd68d7-70de-44d2-b2c4-d37d1f6210da"
      },
      "outputs": [
        {
          "output_type": "display_data",
          "data": {
            "text/html": [
              "        <script type=\"text/javascript\">\n",
              "        window.PlotlyConfig = {MathJaxConfig: 'local'};\n",
              "        if (window.MathJax && window.MathJax.Hub && window.MathJax.Hub.Config) {window.MathJax.Hub.Config({SVG: {font: \"STIX-Web\"}});}\n",
              "        if (typeof require !== 'undefined') {\n",
              "        require.undef(\"plotly\");\n",
              "        requirejs.config({\n",
              "            paths: {\n",
              "                'plotly': ['https://cdn.plot.ly/plotly-2.24.1.min']\n",
              "            }\n",
              "        });\n",
              "        require(['plotly'], function(Plotly) {\n",
              "            window._Plotly = Plotly;\n",
              "        });\n",
              "        }\n",
              "        </script>\n",
              "        "
            ]
          },
          "metadata": {}
        }
      ],
      "source": [
        "import numpy as np\n",
        "import pandas as pd\n",
        "import seaborn as sns\n",
        "import matplotlib.pyplot as plt\n",
        "from subprocess import check_output\n",
        "%matplotlib inline\n",
        "import plotly.offline as py\n",
        "py.init_notebook_mode(connected=True)\n",
        "import plotly.graph_objs as go\n",
        "import plotly.tools as tls\n",
        "import os\n",
        "import gc\n",
        "\n",
        "import re\n",
        "from nltk.corpus import stopwords\n",
        "import distance\n",
        "from nltk.stem import PorterStemmer\n",
        "from bs4 import BeautifulSoup"
      ]
    },
    {
      "cell_type": "markdown",
      "metadata": {
        "id": "__T8jddGs5Wc"
      },
      "source": [
        "<h2> 3.1 Reading data and basic stats </h2>"
      ]
    },
    {
      "cell_type": "code",
      "execution_count": null,
      "metadata": {
        "colab": {
          "base_uri": "https://localhost:8080/"
        },
        "id": "ifM_s9rvs5Wd",
        "outputId": "ffc5eff1-60e1-48d4-9eb4-f021496924dd"
      },
      "outputs": [
        {
          "output_type": "stream",
          "name": "stdout",
          "text": [
            "Number of data points: 404290\n"
          ]
        }
      ],
      "source": [
        "df = pd.read_csv(\"/content/train.csv\")\n",
        "\n",
        "print(\"Number of data points:\",df.shape[0])"
      ]
    },
    {
      "cell_type": "code",
      "source": [
        "df = df.sample(frac=0.25).reset_index(drop=True)\n",
        "df.shape"
      ],
      "metadata": {
        "colab": {
          "base_uri": "https://localhost:8080/"
        },
        "id": "dseiyqTIVBDv",
        "outputId": "deac7ee4-d2a8-4076-fdbc-4e95ad7d141b"
      },
      "execution_count": null,
      "outputs": [
        {
          "output_type": "execute_result",
          "data": {
            "text/plain": [
              "(101072, 6)"
            ]
          },
          "metadata": {},
          "execution_count": 37
        }
      ]
    },
    {
      "cell_type": "code",
      "execution_count": null,
      "metadata": {
        "colab": {
          "base_uri": "https://localhost:8080/",
          "height": 258
        },
        "id": "34zXGW8gs5Wj",
        "outputId": "3a7d2cc9-ec6e-4854-b68a-2be502d8a12e"
      },
      "outputs": [
        {
          "output_type": "execute_result",
          "data": {
            "text/plain": [
              "       id    qid1    qid2                                          question1  \\\n",
              "0  325999   66488   63609  What are the safety precautions on handling sh...   \n",
              "1   85974  145050  145051  Which type of question asked by Amazon intervi...   \n",
              "2  277216  169290    6439                   Where can I download free music?   \n",
              "3   88878  149407  149408                 Why do some people hate Starbucks?   \n",
              "4  166859  258801  258802  What is the most real life like movie about pi...   \n",
              "\n",
              "                                           question2  is_duplicate  \n",
              "0  What are the safety precautions on handling sh...             1  \n",
              "1  Should I co-author a book with my marketing pr...             0  \n",
              "2                      How do I download free music?             1  \n",
              "3                      Why do people hate Starbucks?             1  \n",
              "4  What are the most epic T-shirt quotes you have...             0  "
            ],
            "text/html": [
              "\n",
              "  <div id=\"df-3c4a6bc5-5c1c-4bc9-9056-a7c217ce928f\" class=\"colab-df-container\">\n",
              "    <div>\n",
              "<style scoped>\n",
              "    .dataframe tbody tr th:only-of-type {\n",
              "        vertical-align: middle;\n",
              "    }\n",
              "\n",
              "    .dataframe tbody tr th {\n",
              "        vertical-align: top;\n",
              "    }\n",
              "\n",
              "    .dataframe thead th {\n",
              "        text-align: right;\n",
              "    }\n",
              "</style>\n",
              "<table border=\"1\" class=\"dataframe\">\n",
              "  <thead>\n",
              "    <tr style=\"text-align: right;\">\n",
              "      <th></th>\n",
              "      <th>id</th>\n",
              "      <th>qid1</th>\n",
              "      <th>qid2</th>\n",
              "      <th>question1</th>\n",
              "      <th>question2</th>\n",
              "      <th>is_duplicate</th>\n",
              "    </tr>\n",
              "  </thead>\n",
              "  <tbody>\n",
              "    <tr>\n",
              "      <th>0</th>\n",
              "      <td>325999</td>\n",
              "      <td>66488</td>\n",
              "      <td>63609</td>\n",
              "      <td>What are the safety precautions on handling sh...</td>\n",
              "      <td>What are the safety precautions on handling sh...</td>\n",
              "      <td>1</td>\n",
              "    </tr>\n",
              "    <tr>\n",
              "      <th>1</th>\n",
              "      <td>85974</td>\n",
              "      <td>145050</td>\n",
              "      <td>145051</td>\n",
              "      <td>Which type of question asked by Amazon intervi...</td>\n",
              "      <td>Should I co-author a book with my marketing pr...</td>\n",
              "      <td>0</td>\n",
              "    </tr>\n",
              "    <tr>\n",
              "      <th>2</th>\n",
              "      <td>277216</td>\n",
              "      <td>169290</td>\n",
              "      <td>6439</td>\n",
              "      <td>Where can I download free music?</td>\n",
              "      <td>How do I download free music?</td>\n",
              "      <td>1</td>\n",
              "    </tr>\n",
              "    <tr>\n",
              "      <th>3</th>\n",
              "      <td>88878</td>\n",
              "      <td>149407</td>\n",
              "      <td>149408</td>\n",
              "      <td>Why do some people hate Starbucks?</td>\n",
              "      <td>Why do people hate Starbucks?</td>\n",
              "      <td>1</td>\n",
              "    </tr>\n",
              "    <tr>\n",
              "      <th>4</th>\n",
              "      <td>166859</td>\n",
              "      <td>258801</td>\n",
              "      <td>258802</td>\n",
              "      <td>What is the most real life like movie about pi...</td>\n",
              "      <td>What are the most epic T-shirt quotes you have...</td>\n",
              "      <td>0</td>\n",
              "    </tr>\n",
              "  </tbody>\n",
              "</table>\n",
              "</div>\n",
              "    <div class=\"colab-df-buttons\">\n",
              "\n",
              "  <div class=\"colab-df-container\">\n",
              "    <button class=\"colab-df-convert\" onclick=\"convertToInteractive('df-3c4a6bc5-5c1c-4bc9-9056-a7c217ce928f')\"\n",
              "            title=\"Convert this dataframe to an interactive table.\"\n",
              "            style=\"display:none;\">\n",
              "\n",
              "  <svg xmlns=\"http://www.w3.org/2000/svg\" height=\"24px\" viewBox=\"0 -960 960 960\">\n",
              "    <path d=\"M120-120v-720h720v720H120Zm60-500h600v-160H180v160Zm220 220h160v-160H400v160Zm0 220h160v-160H400v160ZM180-400h160v-160H180v160Zm440 0h160v-160H620v160ZM180-180h160v-160H180v160Zm440 0h160v-160H620v160Z\"/>\n",
              "  </svg>\n",
              "    </button>\n",
              "\n",
              "  <style>\n",
              "    .colab-df-container {\n",
              "      display:flex;\n",
              "      gap: 12px;\n",
              "    }\n",
              "\n",
              "    .colab-df-convert {\n",
              "      background-color: #E8F0FE;\n",
              "      border: none;\n",
              "      border-radius: 50%;\n",
              "      cursor: pointer;\n",
              "      display: none;\n",
              "      fill: #1967D2;\n",
              "      height: 32px;\n",
              "      padding: 0 0 0 0;\n",
              "      width: 32px;\n",
              "    }\n",
              "\n",
              "    .colab-df-convert:hover {\n",
              "      background-color: #E2EBFA;\n",
              "      box-shadow: 0px 1px 2px rgba(60, 64, 67, 0.3), 0px 1px 3px 1px rgba(60, 64, 67, 0.15);\n",
              "      fill: #174EA6;\n",
              "    }\n",
              "\n",
              "    .colab-df-buttons div {\n",
              "      margin-bottom: 4px;\n",
              "    }\n",
              "\n",
              "    [theme=dark] .colab-df-convert {\n",
              "      background-color: #3B4455;\n",
              "      fill: #D2E3FC;\n",
              "    }\n",
              "\n",
              "    [theme=dark] .colab-df-convert:hover {\n",
              "      background-color: #434B5C;\n",
              "      box-shadow: 0px 1px 3px 1px rgba(0, 0, 0, 0.15);\n",
              "      filter: drop-shadow(0px 1px 2px rgba(0, 0, 0, 0.3));\n",
              "      fill: #FFFFFF;\n",
              "    }\n",
              "  </style>\n",
              "\n",
              "    <script>\n",
              "      const buttonEl =\n",
              "        document.querySelector('#df-3c4a6bc5-5c1c-4bc9-9056-a7c217ce928f button.colab-df-convert');\n",
              "      buttonEl.style.display =\n",
              "        google.colab.kernel.accessAllowed ? 'block' : 'none';\n",
              "\n",
              "      async function convertToInteractive(key) {\n",
              "        const element = document.querySelector('#df-3c4a6bc5-5c1c-4bc9-9056-a7c217ce928f');\n",
              "        const dataTable =\n",
              "          await google.colab.kernel.invokeFunction('convertToInteractive',\n",
              "                                                    [key], {});\n",
              "        if (!dataTable) return;\n",
              "\n",
              "        const docLinkHtml = 'Like what you see? Visit the ' +\n",
              "          '<a target=\"_blank\" href=https://colab.research.google.com/notebooks/data_table.ipynb>data table notebook</a>'\n",
              "          + ' to learn more about interactive tables.';\n",
              "        element.innerHTML = '';\n",
              "        dataTable['output_type'] = 'display_data';\n",
              "        await google.colab.output.renderOutput(dataTable, element);\n",
              "        const docLink = document.createElement('div');\n",
              "        docLink.innerHTML = docLinkHtml;\n",
              "        element.appendChild(docLink);\n",
              "      }\n",
              "    </script>\n",
              "  </div>\n",
              "\n",
              "\n",
              "<div id=\"df-9f9b8aab-fc8d-4bf1-9d75-e0ef37d3a8f0\">\n",
              "  <button class=\"colab-df-quickchart\" onclick=\"quickchart('df-9f9b8aab-fc8d-4bf1-9d75-e0ef37d3a8f0')\"\n",
              "            title=\"Suggest charts\"\n",
              "            style=\"display:none;\">\n",
              "\n",
              "<svg xmlns=\"http://www.w3.org/2000/svg\" height=\"24px\"viewBox=\"0 0 24 24\"\n",
              "     width=\"24px\">\n",
              "    <g>\n",
              "        <path d=\"M19 3H5c-1.1 0-2 .9-2 2v14c0 1.1.9 2 2 2h14c1.1 0 2-.9 2-2V5c0-1.1-.9-2-2-2zM9 17H7v-7h2v7zm4 0h-2V7h2v10zm4 0h-2v-4h2v4z\"/>\n",
              "    </g>\n",
              "</svg>\n",
              "  </button>\n",
              "\n",
              "<style>\n",
              "  .colab-df-quickchart {\n",
              "      --bg-color: #E8F0FE;\n",
              "      --fill-color: #1967D2;\n",
              "      --hover-bg-color: #E2EBFA;\n",
              "      --hover-fill-color: #174EA6;\n",
              "      --disabled-fill-color: #AAA;\n",
              "      --disabled-bg-color: #DDD;\n",
              "  }\n",
              "\n",
              "  [theme=dark] .colab-df-quickchart {\n",
              "      --bg-color: #3B4455;\n",
              "      --fill-color: #D2E3FC;\n",
              "      --hover-bg-color: #434B5C;\n",
              "      --hover-fill-color: #FFFFFF;\n",
              "      --disabled-bg-color: #3B4455;\n",
              "      --disabled-fill-color: #666;\n",
              "  }\n",
              "\n",
              "  .colab-df-quickchart {\n",
              "    background-color: var(--bg-color);\n",
              "    border: none;\n",
              "    border-radius: 50%;\n",
              "    cursor: pointer;\n",
              "    display: none;\n",
              "    fill: var(--fill-color);\n",
              "    height: 32px;\n",
              "    padding: 0;\n",
              "    width: 32px;\n",
              "  }\n",
              "\n",
              "  .colab-df-quickchart:hover {\n",
              "    background-color: var(--hover-bg-color);\n",
              "    box-shadow: 0 1px 2px rgba(60, 64, 67, 0.3), 0 1px 3px 1px rgba(60, 64, 67, 0.15);\n",
              "    fill: var(--button-hover-fill-color);\n",
              "  }\n",
              "\n",
              "  .colab-df-quickchart-complete:disabled,\n",
              "  .colab-df-quickchart-complete:disabled:hover {\n",
              "    background-color: var(--disabled-bg-color);\n",
              "    fill: var(--disabled-fill-color);\n",
              "    box-shadow: none;\n",
              "  }\n",
              "\n",
              "  .colab-df-spinner {\n",
              "    border: 2px solid var(--fill-color);\n",
              "    border-color: transparent;\n",
              "    border-bottom-color: var(--fill-color);\n",
              "    animation:\n",
              "      spin 1s steps(1) infinite;\n",
              "  }\n",
              "\n",
              "  @keyframes spin {\n",
              "    0% {\n",
              "      border-color: transparent;\n",
              "      border-bottom-color: var(--fill-color);\n",
              "      border-left-color: var(--fill-color);\n",
              "    }\n",
              "    20% {\n",
              "      border-color: transparent;\n",
              "      border-left-color: var(--fill-color);\n",
              "      border-top-color: var(--fill-color);\n",
              "    }\n",
              "    30% {\n",
              "      border-color: transparent;\n",
              "      border-left-color: var(--fill-color);\n",
              "      border-top-color: var(--fill-color);\n",
              "      border-right-color: var(--fill-color);\n",
              "    }\n",
              "    40% {\n",
              "      border-color: transparent;\n",
              "      border-right-color: var(--fill-color);\n",
              "      border-top-color: var(--fill-color);\n",
              "    }\n",
              "    60% {\n",
              "      border-color: transparent;\n",
              "      border-right-color: var(--fill-color);\n",
              "    }\n",
              "    80% {\n",
              "      border-color: transparent;\n",
              "      border-right-color: var(--fill-color);\n",
              "      border-bottom-color: var(--fill-color);\n",
              "    }\n",
              "    90% {\n",
              "      border-color: transparent;\n",
              "      border-bottom-color: var(--fill-color);\n",
              "    }\n",
              "  }\n",
              "</style>\n",
              "\n",
              "  <script>\n",
              "    async function quickchart(key) {\n",
              "      const quickchartButtonEl =\n",
              "        document.querySelector('#' + key + ' button');\n",
              "      quickchartButtonEl.disabled = true;  // To prevent multiple clicks.\n",
              "      quickchartButtonEl.classList.add('colab-df-spinner');\n",
              "      try {\n",
              "        const charts = await google.colab.kernel.invokeFunction(\n",
              "            'suggestCharts', [key], {});\n",
              "      } catch (error) {\n",
              "        console.error('Error during call to suggestCharts:', error);\n",
              "      }\n",
              "      quickchartButtonEl.classList.remove('colab-df-spinner');\n",
              "      quickchartButtonEl.classList.add('colab-df-quickchart-complete');\n",
              "    }\n",
              "    (() => {\n",
              "      let quickchartButtonEl =\n",
              "        document.querySelector('#df-9f9b8aab-fc8d-4bf1-9d75-e0ef37d3a8f0 button');\n",
              "      quickchartButtonEl.style.display =\n",
              "        google.colab.kernel.accessAllowed ? 'block' : 'none';\n",
              "    })();\n",
              "  </script>\n",
              "</div>\n",
              "\n",
              "    </div>\n",
              "  </div>\n"
            ],
            "application/vnd.google.colaboratory.intrinsic+json": {
              "type": "dataframe",
              "variable_name": "df"
            }
          },
          "metadata": {},
          "execution_count": 38
        }
      ],
      "source": [
        "df.head()"
      ]
    },
    {
      "cell_type": "code",
      "source": [
        "df.to_csv('/content/drive/MyDrive/Project_gova/train.csv',index=False)"
      ],
      "metadata": {
        "id": "XfE5tiCVWIHT"
      },
      "execution_count": null,
      "outputs": []
    },
    {
      "cell_type": "code",
      "execution_count": null,
      "metadata": {
        "colab": {
          "base_uri": "https://localhost:8080/"
        },
        "id": "mx4DFwMns5Wp",
        "outputId": "8e9a2648-b838-4068-96c3-e5ad1543191b"
      },
      "outputs": [
        {
          "output_type": "stream",
          "name": "stdout",
          "text": [
            "<class 'pandas.core.frame.DataFrame'>\n",
            "RangeIndex: 101072 entries, 0 to 101071\n",
            "Data columns (total 6 columns):\n",
            " #   Column        Non-Null Count   Dtype \n",
            "---  ------        --------------   ----- \n",
            " 0   id            101072 non-null  int64 \n",
            " 1   qid1          101072 non-null  int64 \n",
            " 2   qid2          101072 non-null  int64 \n",
            " 3   question1     101072 non-null  object\n",
            " 4   question2     101072 non-null  object\n",
            " 5   is_duplicate  101072 non-null  int64 \n",
            "dtypes: int64(4), object(2)\n",
            "memory usage: 4.6+ MB\n"
          ]
        }
      ],
      "source": [
        "df.info()"
      ]
    },
    {
      "cell_type": "markdown",
      "metadata": {
        "id": "HHHTGTzws5Ww"
      },
      "source": [
        "We are given a minimal number of data fields here, consisting of:\n",
        "\n",
        "- id:  Looks like a simple rowID\n",
        "- qid{1, 2}:  The unique ID of each question in the pair\n",
        "- question{1, 2}:  The actual textual contents of the questions.\n",
        "- is_duplicate:  The label that we are trying to predict - whether the two questions are duplicates of each other."
      ]
    },
    {
      "cell_type": "markdown",
      "metadata": {
        "id": "ZulqVzTDs5Wx"
      },
      "source": [
        "<h3> 3.2.1 Distribution of data points among output classes</h3>\n",
        "- Number of duplicate(smilar) and non-duplicate(non similar) questions"
      ]
    },
    {
      "cell_type": "code",
      "execution_count": null,
      "metadata": {
        "colab": {
          "base_uri": "https://localhost:8080/",
          "height": 461
        },
        "id": "YHp64yNjs5Wx",
        "outputId": "ee74b316-ab3f-46d0-9554-0a9c0322ecea"
      },
      "outputs": [
        {
          "output_type": "execute_result",
          "data": {
            "text/plain": [
              "<Axes: xlabel='is_duplicate'>"
            ]
          },
          "metadata": {},
          "execution_count": 41
        },
        {
          "output_type": "display_data",
          "data": {
            "text/plain": [
              "<Figure size 640x480 with 1 Axes>"
            ],
            "image/png": "[encoded data removed]"
          },
          "metadata": {}
        }
      ],
      "source": [
        "df.groupby(\"is_duplicate\")['id'].count().plot.bar()"
      ]
    },
    {
      "cell_type": "code",
      "execution_count": null,
      "metadata": {
        "colab": {
          "base_uri": "https://localhost:8080/"
        },
        "id": "-usI2K2bs5W4",
        "outputId": "1a614245-426f-4f2b-f6b8-da46d31de289"
      },
      "outputs": [
        {
          "output_type": "stream",
          "name": "stdout",
          "text": [
            "~> Total number of question pairs for training:\n",
            "   101072\n"
          ]
        }
      ],
      "source": [
        "print('~> Total number of question pairs for training:\\n   {}'.format(len(df)))"
      ]
    },
    {
      "cell_type": "code",
      "execution_count": null,
      "metadata": {
        "colab": {
          "base_uri": "https://localhost:8080/"
        },
        "id": "YiPia6Pjs5W_",
        "outputId": "4f140f24-23bf-4b88-9bea-6ad1832b5357"
      },
      "outputs": [
        {
          "output_type": "stream",
          "name": "stdout",
          "text": [
            "~> Question pairs are not Similar (is_duplicate = 0):\n",
            "   63.04%\n",
            "\n",
            "~> Question pairs are Similar (is_duplicate = 1):\n",
            "   36.96%\n"
          ]
        }
      ],
      "source": [
        "print('~> Question pairs are not Similar (is_duplicate = 0):\\n   {}%'.format(100 - round(df['is_duplicate'].mean()*100, 2)))\n",
        "print('\\n~> Question pairs are Similar (is_duplicate = 1):\\n   {}%'.format(round(df['is_duplicate'].mean()*100, 2)))"
      ]
    },
    {
      "cell_type": "markdown",
      "metadata": {
        "id": "wGX03QVRs5XF"
      },
      "source": [
        "<h3> 3.2.2 Number of unique questions </h3>"
      ]
    },
    {
      "cell_type": "code",
      "execution_count": null,
      "metadata": {
        "colab": {
          "base_uri": "https://localhost:8080/"
        },
        "id": "VOKa6aU2s5XG",
        "outputId": "ab447504-e6d5-4593-d0bd-6d0a529ced9d"
      },
      "outputs": [
        {
          "output_type": "stream",
          "name": "stdout",
          "text": [
            "Total number of  Unique Questions are: 167923\n",
            "\n",
            "Number of unique questions that appear more than one time: 19538 (11.635094656479458%)\n",
            "\n",
            "Max number of times a single question is repeated: 44\n",
            "\n"
          ]
        }
      ],
      "source": [
        "qids = pd.Series(df['qid1'].tolist() + df['qid2'].tolist())\n",
        "unique_qs = len(np.unique(qids))\n",
        "qs_morethan_onetime = np.sum(qids.value_counts() > 1)\n",
        "print ('Total number of  Unique Questions are: {}\\n'.format(unique_qs))\n",
        "#print len(np.unique(qids))\n",
        "\n",
        "print ('Number of unique questions that appear more than one time: {} ({}%)\\n'.format(qs_morethan_onetime,qs_morethan_onetime/unique_qs*100))\n",
        "\n",
        "print ('Max number of times a single question is repeated: {}\\n'.format(max(qids.value_counts())))\n",
        "\n",
        "q_vals=qids.value_counts()\n",
        "\n",
        "q_vals=q_vals.values"
      ]
    },
    {
      "cell_type": "code",
      "execution_count": null,
      "metadata": {
        "colab": {
          "base_uri": "https://localhost:8080/",
          "height": 545
        },
        "id": "plcvbd4Cs5XM",
        "outputId": "94b2e326-2056-4bf4-e265-60bf5a10856e"
      },
      "outputs": [
        {
          "output_type": "display_data",
          "data": {
            "text/plain": [
              "<Figure size 1000x600 with 1 Axes>"
            ],
            "image/png": "[encoded data removed]"
          },
          "metadata": {}
        }
      ],
      "source": [
        "\n",
        "x = [\"unique_questions\" , \"Repeated Questions\"]\n",
        "y =  [unique_qs , qs_morethan_onetime]\n",
        "\n",
        "plt.figure(figsize=(10, 6))\n",
        "plt.title (\"Plot representing unique and repeated questions  \")\n",
        "sns.barplot(y)\n",
        "plt.show()"
      ]
    },
    {
      "cell_type": "markdown",
      "metadata": {
        "id": "G-CwGaMms5XS"
      },
      "source": [
        "<h3>3.2.3 Checking for Duplicates </h3>"
      ]
    },
    {
      "cell_type": "code",
      "execution_count": null,
      "metadata": {
        "colab": {
          "base_uri": "https://localhost:8080/"
        },
        "id": "YCiDBHm5s5XT",
        "outputId": "3821cd36-2254-4564-fcb4-d3e54df3e307"
      },
      "outputs": [
        {
          "output_type": "stream",
          "name": "stdout",
          "text": [
            "Number of duplicate questions 0\n"
          ]
        }
      ],
      "source": [
        "#checking whether there are any repeated pair of questions\n",
        "\n",
        "pair_duplicates = df[['qid1','qid2','is_duplicate']].groupby(['qid1','qid2']).count().reset_index()\n",
        "\n",
        "print (\"Number of duplicate questions\",(pair_duplicates).shape[0] - df.shape[0])"
      ]
    },
    {
      "cell_type": "markdown",
      "metadata": {
        "id": "iaHTnnt8s5XX"
      },
      "source": [
        "<h3> 3.2.4 Number of occurrences of each question </h3>"
      ]
    },
    {
      "cell_type": "code",
      "execution_count": null,
      "metadata": {
        "colab": {
          "base_uri": "https://localhost:8080/",
          "height": 503
        },
        "id": "dPZwk-C8s5Xa",
        "outputId": "be919b2c-7d8a-429a-9d32-bf76b9454c36"
      },
      "outputs": [
        {
          "output_type": "stream",
          "name": "stdout",
          "text": [
            "Maximum number of times a single question is repeated: 44\n",
            "\n"
          ]
        },
        {
          "output_type": "display_data",
          "data": {
            "text/plain": [
              "<Figure size 2000x1000 with 1 Axes>"
            ],
            "image/png": "[encoded data removed]"
          },
          "metadata": {}
        }
      ],
      "source": [
        "plt.figure(figsize=(20, 10))\n",
        "\n",
        "plt.hist(qids.value_counts(), bins=160)\n",
        "\n",
        "plt.yscale('log')\n",
        "\n",
        "plt.title('Log-Histogram of question appearance counts')\n",
        "\n",
        "plt.xlabel('Number of occurences of question')\n",
        "\n",
        "plt.ylabel('Number of questions')\n",
        "\n",
        "print ('Maximum number of times a single question is repeated: {}\\n'.format(max(qids.value_counts())))"
      ]
    },
    {
      "cell_type": "markdown",
      "metadata": {
        "id": "h_WdYxlYs5Xj"
      },
      "source": [
        "<h3> 3.2.5 Checking for NULL values </h3>"
      ]
    },
    {
      "cell_type": "code",
      "execution_count": null,
      "metadata": {
        "id": "r0x1gR2fs5Xk"
      },
      "outputs": [],
      "source": [
        "#Checking whether there are any rows with null values\n",
        "# nan_rows = df[df.isnull().any()]\n",
        "# print (nan_rows)"
      ]
    },
    {
      "cell_type": "markdown",
      "metadata": {
        "id": "CCYmufv6s5Xo"
      },
      "source": [
        "- There are two rows with null values in question2"
      ]
    },
    {
      "cell_type": "code",
      "execution_count": null,
      "metadata": {
        "id": "yLBRyACgs5Xp"
      },
      "outputs": [],
      "source": [
        "# Filling the null values with ' '\n",
        "df = df.fillna('')\n",
        "# nan_rows = df[df.isnull().any(1)]\n",
        "# print (nan_rows)"
      ]
    },
    {
      "cell_type": "markdown",
      "metadata": {
        "id": "l9Qcl5xfs5Xs"
      },
      "source": [
        "<h2>3.3 Basic Feature Extraction (before cleaning) </h2>"
      ]
    },
    {
      "cell_type": "markdown",
      "metadata": {
        "id": "RRzvPYzGs5Xu"
      },
      "source": [
        "Let us now construct a few features like:\n",
        " - ____freq_qid1____ = Frequency of qid1's\n",
        " - ____freq_qid2____ = Frequency of qid2's\n",
        " - ____q1len____ = Length of q1\n",
        " - ____q2len____ = Length of q2\n",
        " - ____q1_n_words____ = Number of words in Question 1\n",
        " - ____q2_n_words____ = Number of words in Question 2\n",
        " - ____word_Common____ = (Number of common unique words in Question 1 and Question 2)\n",
        " - ____word_Total____ =(Total num of words in Question 1 + Total num of words in Question 2)\n",
        " - ____word_share____ = (word_common)/(word_Total)\n",
        " - ____freq_q1+freq_q2____ = sum total of frequency of qid1 and qid2\n",
        " - ____freq_q1-freq_q2____ = absolute difference of frequency of qid1 and qid2"
      ]
    },
    {
      "cell_type": "code",
      "execution_count": null,
      "metadata": {
        "colab": {
          "base_uri": "https://localhost:8080/",
          "height": 590
        },
        "id": "Iq4DZ-rYs5Xv",
        "outputId": "e49cdf2e-4304-4bb2-cf1a-66e2fc4d5e58"
      },
      "outputs": [
        {
          "output_type": "execute_result",
          "data": {
            "text/plain": [
              "       id    qid1    qid2                                          question1  \\\n",
              "0  325999   66488   63609  What are the safety precautions on handling sh...   \n",
              "1   85974  145050  145051  Which type of question asked by Amazon intervi...   \n",
              "2  277216  169290    6439                   Where can I download free music?   \n",
              "3   88878  149407  149408                 Why do some people hate Starbucks?   \n",
              "4  166859  258801  258802  What is the most real life like movie about pi...   \n",
              "\n",
              "                                           question2  is_duplicate  freq_qid1  \\\n",
              "0  What are the safety precautions on handling sh...             1          5   \n",
              "1  Should I co-author a book with my marketing pr...             0          1   \n",
              "2                      How do I download free music?             1          1   \n",
              "3                      Why do people hate Starbucks?             1          1   \n",
              "4  What are the most epic T-shirt quotes you have...             0          1   \n",
              "\n",
              "   freq_qid2  q1len  q2len  q1_n_words  q2_n_words  word_Common  word_Total  \\\n",
              "0          6     84     84          14          14         12.0        26.0   \n",
              "1          1     74     70          11          13          0.0        23.0   \n",
              "2          1     32     29           6           6          4.0        12.0   \n",
              "3          1     34     29           6           5          5.0        11.0   \n",
              "4          1     52     77          10          14          3.0        24.0   \n",
              "\n",
              "   word_share  freq_q1+q2  freq_q1-q2  \n",
              "0    0.461538          11           1  \n",
              "1    0.000000           2           0  \n",
              "2    0.333333           2           0  \n",
              "3    0.454545           2           0  \n",
              "4    0.125000           2           0  "
            ],
            "text/html": [
              "\n",
              "  <div id=\"df-e28a23ba-fde2-49aa-b7d6-81e96dfbf514\" class=\"colab-df-container\">\n",
              "    <div>\n",
              "<style scoped>\n",
              "    .dataframe tbody tr th:only-of-type {\n",
              "        vertical-align: middle;\n",
              "    }\n",
              "\n",
              "    .dataframe tbody tr th {\n",
              "        vertical-align: top;\n",
              "    }\n",
              "\n",
              "    .dataframe thead th {\n",
              "        text-align: right;\n",
              "    }\n",
              "</style>\n",
              "<table border=\"1\" class=\"dataframe\">\n",
              "  <thead>\n",
              "    <tr style=\"text-align: right;\">\n",
              "      <th></th>\n",
              "      <th>id</th>\n",
              "      <th>qid1</th>\n",
              "      <th>qid2</th>\n",
              "      <th>question1</th>\n",
              "      <th>question2</th>\n",
              "      <th>is_duplicate</th>\n",
              "      <th>freq_qid1</th>\n",
              "      <th>freq_qid2</th>\n",
              "      <th>q1len</th>\n",
              "      <th>q2len</th>\n",
              "      <th>q1_n_words</th>\n",
              "      <th>q2_n_words</th>\n",
              "      <th>word_Common</th>\n",
              "      <th>word_Total</th>\n",
              "      <th>word_share</th>\n",
              "      <th>freq_q1+q2</th>\n",
              "      <th>freq_q1-q2</th>\n",
              "    </tr>\n",
              "  </thead>\n",
              "  <tbody>\n",
              "    <tr>\n",
              "      <th>0</th>\n",
              "      <td>325999</td>\n",
              "      <td>66488</td>\n",
              "      <td>63609</td>\n",
              "      <td>What are the safety precautions on handling sh...</td>\n",
              "      <td>What are the safety precautions on handling sh...</td>\n",
              "      <td>1</td>\n",
              "      <td>5</td>\n",
              "      <td>6</td>\n",
              "      <td>84</td>\n",
              "      <td>84</td>\n",
              "      <td>14</td>\n",
              "      <td>14</td>\n",
              "      <td>12.0</td>\n",
              "      <td>26.0</td>\n",
              "      <td>0.461538</td>\n",
              "      <td>11</td>\n",
              "      <td>1</td>\n",
              "    </tr>\n",
              "    <tr>\n",
              "      <th>1</th>\n",
              "      <td>85974</td>\n",
              "      <td>145050</td>\n",
              "      <td>145051</td>\n",
              "      <td>Which type of question asked by Amazon intervi...</td>\n",
              "      <td>Should I co-author a book with my marketing pr...</td>\n",
              "      <td>0</td>\n",
              "      <td>1</td>\n",
              "      <td>1</td>\n",
              "      <td>74</td>\n",
              "      <td>70</td>\n",
              "      <td>11</td>\n",
              "      <td>13</td>\n",
              "      <td>0.0</td>\n",
              "      <td>23.0</td>\n",
              "      <td>0.000000</td>\n",
              "      <td>2</td>\n",
              "      <td>0</td>\n",
              "    </tr>\n",
              "    <tr>\n",
              "      <th>2</th>\n",
              "      <td>277216</td>\n",
              "      <td>169290</td>\n",
              "      <td>6439</td>\n",
              "      <td>Where can I download free music?</td>\n",
              "      <td>How do I download free music?</td>\n",
              "      <td>1</td>\n",
              "      <td>1</td>\n",
              "      <td>1</td>\n",
              "      <td>32</td>\n",
              "      <td>29</td>\n",
              "      <td>6</td>\n",
              "      <td>6</td>\n",
              "      <td>4.0</td>\n",
              "      <td>12.0</td>\n",
              "      <td>0.333333</td>\n",
              "      <td>2</td>\n",
              "      <td>0</td>\n",
              "    </tr>\n",
              "    <tr>\n",
              "      <th>3</th>\n",
              "      <td>88878</td>\n",
              "      <td>149407</td>\n",
              "      <td>149408</td>\n",
              "      <td>Why do some people hate Starbucks?</td>\n",
              "      <td>Why do people hate Starbucks?</td>\n",
              "      <td>1</td>\n",
              "      <td>1</td>\n",
              "      <td>1</td>\n",
              "      <td>34</td>\n",
              "      <td>29</td>\n",
              "      <td>6</td>\n",
              "      <td>5</td>\n",
              "      <td>5.0</td>\n",
              "      <td>11.0</td>\n",
              "      <td>0.454545</td>\n",
              "      <td>2</td>\n",
              "      <td>0</td>\n",
              "    </tr>\n",
              "    <tr>\n",
              "      <th>4</th>\n",
              "      <td>166859</td>\n",
              "      <td>258801</td>\n",
              "      <td>258802</td>\n",
              "      <td>What is the most real life like movie about pi...</td>\n",
              "      <td>What are the most epic T-shirt quotes you have...</td>\n",
              "      <td>0</td>\n",
              "      <td>1</td>\n",
              "      <td>1</td>\n",
              "      <td>52</td>\n",
              "      <td>77</td>\n",
              "      <td>10</td>\n",
              "      <td>14</td>\n",
              "      <td>3.0</td>\n",
              "      <td>24.0</td>\n",
              "      <td>0.125000</td>\n",
              "      <td>2</td>\n",
              "      <td>0</td>\n",
              "    </tr>\n",
              "  </tbody>\n",
              "</table>\n",
              "</div>\n",
              "    <div class=\"colab-df-buttons\">\n",
              "\n",
              "  <div class=\"colab-df-container\">\n",
              "    <button class=\"colab-df-convert\" onclick=\"convertToInteractive('df-e28a23ba-fde2-49aa-b7d6-81e96dfbf514')\"\n",
              "            title=\"Convert this dataframe to an interactive table.\"\n",
              "            style=\"display:none;\">\n",
              "\n",
              "  <svg xmlns=\"http://www.w3.org/2000/svg\" height=\"24px\" viewBox=\"0 -960 960 960\">\n",
              "    <path d=\"M120-120v-720h720v720H120Zm60-500h600v-160H180v160Zm220 220h160v-160H400v160Zm0 220h160v-160H400v160ZM180-400h160v-160H180v160Zm440 0h160v-160H620v160ZM180-180h160v-160H180v160Zm440 0h160v-160H620v160Z\"/>\n",
              "  </svg>\n",
              "    </button>\n",
              "\n",
              "  <style>\n",
              "    .colab-df-container {\n",
              "      display:flex;\n",
              "      gap: 12px;\n",
              "    }\n",
              "\n",
              "    .colab-df-convert {\n",
              "      background-color: #E8F0FE;\n",
              "      border: none;\n",
              "      border-radius: 50%;\n",
              "      cursor: pointer;\n",
              "      display: none;\n",
              "      fill: #1967D2;\n",
              "      height: 32px;\n",
              "      padding: 0 0 0 0;\n",
              "      width: 32px;\n",
              "    }\n",
              "\n",
              "    .colab-df-convert:hover {\n",
              "      background-color: #E2EBFA;\n",
              "      box-shadow: 0px 1px 2px rgba(60, 64, 67, 0.3), 0px 1px 3px 1px rgba(60, 64, 67, 0.15);\n",
              "      fill: #174EA6;\n",
              "    }\n",
              "\n",
              "    .colab-df-buttons div {\n",
              "      margin-bottom: 4px;\n",
              "    }\n",
              "\n",
              "    [theme=dark] .colab-df-convert {\n",
              "      background-color: #3B4455;\n",
              "      fill: #D2E3FC;\n",
              "    }\n",
              "\n",
              "    [theme=dark] .colab-df-convert:hover {\n",
              "      background-color: #434B5C;\n",
              "      box-shadow: 0px 1px 3px 1px rgba(0, 0, 0, 0.15);\n",
              "      filter: drop-shadow(0px 1px 2px rgba(0, 0, 0, 0.3));\n",
              "      fill: #FFFFFF;\n",
              "    }\n",
              "  </style>\n",
              "\n",
              "    <script>\n",
              "      const buttonEl =\n",
              "        document.querySelector('#df-e28a23ba-fde2-49aa-b7d6-81e96dfbf514 button.colab-df-convert');\n",
              "      buttonEl.style.display =\n",
              "        google.colab.kernel.accessAllowed ? 'block' : 'none';\n",
              "\n",
              "      async function convertToInteractive(key) {\n",
              "        const element = document.querySelector('#df-e28a23ba-fde2-49aa-b7d6-81e96dfbf514');\n",
              "        const dataTable =\n",
              "          await google.colab.kernel.invokeFunction('convertToInteractive',\n",
              "                                                    [key], {});\n",
              "        if (!dataTable) return;\n",
              "\n",
              "        const docLinkHtml = 'Like what you see? Visit the ' +\n",
              "          '<a target=\"_blank\" href=https://colab.research.google.com/notebooks/data_table.ipynb>data table notebook</a>'\n",
              "          + ' to learn more about interactive tables.';\n",
              "        element.innerHTML = '';\n",
              "        dataTable['output_type'] = 'display_data';\n",
              "        await google.colab.output.renderOutput(dataTable, element);\n",
              "        const docLink = document.createElement('div');\n",
              "        docLink.innerHTML = docLinkHtml;\n",
              "        element.appendChild(docLink);\n",
              "      }\n",
              "    </script>\n",
              "  </div>\n",
              "\n",
              "\n",
              "<div id=\"df-fccee7da-a756-420b-ad87-a5fde91281e9\">\n",
              "  <button class=\"colab-df-quickchart\" onclick=\"quickchart('df-fccee7da-a756-420b-ad87-a5fde91281e9')\"\n",
              "            title=\"Suggest charts\"\n",
              "            style=\"display:none;\">\n",
              "\n",
              "<svg xmlns=\"http://www.w3.org/2000/svg\" height=\"24px\"viewBox=\"0 0 24 24\"\n",
              "     width=\"24px\">\n",
              "    <g>\n",
              "        <path d=\"M19 3H5c-1.1 0-2 .9-2 2v14c0 1.1.9 2 2 2h14c1.1 0 2-.9 2-2V5c0-1.1-.9-2-2-2zM9 17H7v-7h2v7zm4 0h-2V7h2v10zm4 0h-2v-4h2v4z\"/>\n",
              "    </g>\n",
              "</svg>\n",
              "  </button>\n",
              "\n",
              "<style>\n",
              "  .colab-df-quickchart {\n",
              "      --bg-color: #E8F0FE;\n",
              "      --fill-color: #1967D2;\n",
              "      --hover-bg-color: #E2EBFA;\n",
              "      --hover-fill-color: #174EA6;\n",
              "      --disabled-fill-color: #AAA;\n",
              "      --disabled-bg-color: #DDD;\n",
              "  }\n",
              "\n",
              "  [theme=dark] .colab-df-quickchart {\n",
              "      --bg-color: #3B4455;\n",
              "      --fill-color: #D2E3FC;\n",
              "      --hover-bg-color: #434B5C;\n",
              "      --hover-fill-color: #FFFFFF;\n",
              "      --disabled-bg-color: #3B4455;\n",
              "      --disabled-fill-color: #666;\n",
              "  }\n",
              "\n",
              "  .colab-df-quickchart {\n",
              "    background-color: var(--bg-color);\n",
              "    border: none;\n",
              "    border-radius: 50%;\n",
              "    cursor: pointer;\n",
              "    display: none;\n",
              "    fill: var(--fill-color);\n",
              "    height: 32px;\n",
              "    padding: 0;\n",
              "    width: 32px;\n",
              "  }\n",
              "\n",
              "  .colab-df-quickchart:hover {\n",
              "    background-color: var(--hover-bg-color);\n",
              "    box-shadow: 0 1px 2px rgba(60, 64, 67, 0.3), 0 1px 3px 1px rgba(60, 64, 67, 0.15);\n",
              "    fill: var(--button-hover-fill-color);\n",
              "  }\n",
              "\n",
              "  .colab-df-quickchart-complete:disabled,\n",
              "  .colab-df-quickchart-complete:disabled:hover {\n",
              "    background-color: var(--disabled-bg-color);\n",
              "    fill: var(--disabled-fill-color);\n",
              "    box-shadow: none;\n",
              "  }\n",
              "\n",
              "  .colab-df-spinner {\n",
              "    border: 2px solid var(--fill-color);\n",
              "    border-color: transparent;\n",
              "    border-bottom-color: var(--fill-color);\n",
              "    animation:\n",
              "      spin 1s steps(1) infinite;\n",
              "  }\n",
              "\n",
              "  @keyframes spin {\n",
              "    0% {\n",
              "      border-color: transparent;\n",
              "      border-bottom-color: var(--fill-color);\n",
              "      border-left-color: var(--fill-color);\n",
              "    }\n",
              "    20% {\n",
              "      border-color: transparent;\n",
              "      border-left-color: var(--fill-color);\n",
              "      border-top-color: var(--fill-color);\n",
              "    }\n",
              "    30% {\n",
              "      border-color: transparent;\n",
              "      border-left-color: var(--fill-color);\n",
              "      border-top-color: var(--fill-color);\n",
              "      border-right-color: var(--fill-color);\n",
              "    }\n",
              "    40% {\n",
              "      border-color: transparent;\n",
              "      border-right-color: var(--fill-color);\n",
              "      border-top-color: var(--fill-color);\n",
              "    }\n",
              "    60% {\n",
              "      border-color: transparent;\n",
              "      border-right-color: var(--fill-color);\n",
              "    }\n",
              "    80% {\n",
              "      border-color: transparent;\n",
              "      border-right-color: var(--fill-color);\n",
              "      border-bottom-color: var(--fill-color);\n",
              "    }\n",
              "    90% {\n",
              "      border-color: transparent;\n",
              "      border-bottom-color: var(--fill-color);\n",
              "    }\n",
              "  }\n",
              "</style>\n",
              "\n",
              "  <script>\n",
              "    async function quickchart(key) {\n",
              "      const quickchartButtonEl =\n",
              "        document.querySelector('#' + key + ' button');\n",
              "      quickchartButtonEl.disabled = true;  // To prevent multiple clicks.\n",
              "      quickchartButtonEl.classList.add('colab-df-spinner');\n",
              "      try {\n",
              "        const charts = await google.colab.kernel.invokeFunction(\n",
              "            'suggestCharts', [key], {});\n",
              "      } catch (error) {\n",
              "        console.error('Error during call to suggestCharts:', error);\n",
              "      }\n",
              "      quickchartButtonEl.classList.remove('colab-df-spinner');\n",
              "      quickchartButtonEl.classList.add('colab-df-quickchart-complete');\n",
              "    }\n",
              "    (() => {\n",
              "      let quickchartButtonEl =\n",
              "        document.querySelector('#df-fccee7da-a756-420b-ad87-a5fde91281e9 button');\n",
              "      quickchartButtonEl.style.display =\n",
              "        google.colab.kernel.accessAllowed ? 'block' : 'none';\n",
              "    })();\n",
              "  </script>\n",
              "</div>\n",
              "\n",
              "    </div>\n",
              "  </div>\n"
            ],
            "application/vnd.google.colaboratory.intrinsic+json": {
              "type": "dataframe",
              "variable_name": "df"
            }
          },
          "metadata": {},
          "execution_count": 50
        }
      ],
      "source": [
        "if os.path.isfile('df_fe_without_preprocessing_train.csv'):\n",
        "    df = pd.read_csv(\"df_fe_without_preprocessing_train.csv\",encoding='latin-1')\n",
        "else:\n",
        "    df['freq_qid1'] = df.groupby('qid1')['qid1'].transform('count')\n",
        "    df['freq_qid2'] = df.groupby('qid2')['qid2'].transform('count')\n",
        "    df['q1len'] = df['question1'].str.len()\n",
        "    df['q2len'] = df['question2'].str.len()\n",
        "    df['q1_n_words'] = df['question1'].apply(lambda row: len(row.split(\" \")))\n",
        "    df['q2_n_words'] = df['question2'].apply(lambda row: len(row.split(\" \")))\n",
        "\n",
        "    def normalized_word_Common(row):\n",
        "        w1 = set(map(lambda word: word.lower().strip(), row['question1'].split(\" \")))\n",
        "        w2 = set(map(lambda word: word.lower().strip(), row['question2'].split(\" \")))\n",
        "        return 1.0 * len(w1 & w2)\n",
        "    df['word_Common'] = df.apply(normalized_word_Common, axis=1)\n",
        "\n",
        "    def normalized_word_Total(row):\n",
        "        w1 = set(map(lambda word: word.lower().strip(), row['question1'].split(\" \")))\n",
        "        w2 = set(map(lambda word: word.lower().strip(), row['question2'].split(\" \")))\n",
        "        return 1.0 * (len(w1) + len(w2))\n",
        "    df['word_Total'] = df.apply(normalized_word_Total, axis=1)\n",
        "\n",
        "    def normalized_word_share(row):\n",
        "        w1 = set(map(lambda word: word.lower().strip(), row['question1'].split(\" \")))\n",
        "        w2 = set(map(lambda word: word.lower().strip(), row['question2'].split(\" \")))\n",
        "        return 1.0 * len(w1 & w2)/(len(w1) + len(w2))\n",
        "    df['word_share'] = df.apply(normalized_word_share, axis=1)\n",
        "\n",
        "    df['freq_q1+q2'] = df['freq_qid1']+df['freq_qid2']\n",
        "    df['freq_q1-q2'] = abs(df['freq_qid1']-df['freq_qid2'])\n",
        "\n",
        "    df.to_csv(\"df_new_without_preprocessing_train.csv\", index=False)\n",
        "\n",
        "df.head()"
      ]
    },
    {
      "cell_type": "code",
      "execution_count": null,
      "metadata": {
        "id": "55bDHy0JGqgL"
      },
      "outputs": [],
      "source": []
    },
    {
      "cell_type": "markdown",
      "metadata": {
        "id": "-zLujovVs5X3"
      },
      "source": [
        "<h3> 3.3.1 Analysis of some of the extracted features </h3>"
      ]
    },
    {
      "cell_type": "markdown",
      "metadata": {
        "id": "zRIFQTkCs5X3"
      },
      "source": [
        "- Here are some questions have only one single words."
      ]
    },
    {
      "cell_type": "code",
      "execution_count": null,
      "metadata": {
        "colab": {
          "base_uri": "https://localhost:8080/"
        },
        "id": "jSS0X82Ds5X5",
        "outputId": "07b02786-b68d-4755-ad3f-7c6cc89851c3"
      },
      "outputs": [
        {
          "output_type": "stream",
          "name": "stdout",
          "text": [
            "Minimum length of the questions in question1 :  1\n",
            "Minimum length of the questions in question2 :  1\n",
            "Number of Questions with minimum length [question1] : 67\n",
            "Number of Questions with minimum length [question2] : 24\n"
          ]
        }
      ],
      "source": [
        "print (\"Minimum length of the questions in question1 : \" , min(df['q1_n_words']))\n",
        "\n",
        "print (\"Minimum length of the questions in question2 : \" , min(df['q2_n_words']))\n",
        "\n",
        "print (\"Number of Questions with minimum length [question1] :\", df[df['q1_n_words']== 1].shape[0])\n",
        "print (\"Number of Questions with minimum length [question2] :\", df[df['q2_n_words']== 1].shape[0])"
      ]
    },
    {
      "cell_type": "markdown",
      "metadata": {
        "id": "kFzTIHW3s5YB"
      },
      "source": [
        "<h4> 3.3.1.1 Feature: word_share </h4>"
      ]
    },
    {
      "cell_type": "code",
      "execution_count": null,
      "metadata": {
        "colab": {
          "base_uri": "https://localhost:8080/",
          "height": 1000
        },
        "id": "s4rwGLFDs5YD",
        "outputId": "f29120d5-ffd4-4819-d800-4b592e770254"
      },
      "outputs": [
        {
          "output_type": "display_data",
          "data": {
            "text/plain": [
              "<Figure size 1200x800 with 2 Axes>"
            ],
            "image/png": "[encoded data removed]"
          },
          "metadata": {}
        },
        {
          "output_type": "display_data",
          "data": {
            "text/plain": [
              "<Figure size 500x500 with 1 Axes>"
            ],
            "image/png": "[encoded data removed]"
          },
          "metadata": {}
        },
        {
          "output_type": "display_data",
          "data": {
            "text/plain": [
              "<Figure size 500x500 with 1 Axes>"
            ],
            "image/png": "[encoded data removed]"
          },
          "metadata": {}
        }
      ],
      "source": [
        "plt.figure(figsize=(12, 8))\n",
        "\n",
        "plt.subplot(1,2,1)\n",
        "sns.violinplot(x = 'is_duplicate', y = 'word_share', data = df[0:])\n",
        "\n",
        "plt.subplot(1,2,2)\n",
        "sns.displot(df[df['is_duplicate'] == 1.0]['word_share'][0:] , label = \"1\", color = 'red',kind=\"kde\")\n",
        "sns.displot(df[df['is_duplicate'] == 0.0]['word_share'][0:] , label = \"0\" , color = 'blue',kind=\"kde\" )\n",
        "plt.show()"
      ]
    },
    {
      "cell_type": "markdown",
      "metadata": {
        "id": "RcwMI4xps5YJ"
      },
      "source": [
        "- The distributions for normalized word_share have some overlap on the far right-hand side, i.e., there are quite a lot of questions with high word similarity\n",
        "- The average word share and Common no. of words of qid1 and qid2 is more when they are duplicate(Similar)"
      ]
    },
    {
      "cell_type": "markdown",
      "metadata": {
        "id": "K0AbOS65s5YL"
      },
      "source": [
        "<h4> 3.3.1.2 Feature: word_Common </h4>"
      ]
    },
    {
      "cell_type": "code",
      "execution_count": null,
      "metadata": {
        "colab": {
          "base_uri": "https://localhost:8080/",
          "height": 1000
        },
        "id": "_mCFvztcs5YM",
        "outputId": "50d7daa2-5a8f-456a-b815-6bf6dcb7773f"
      },
      "outputs": [
        {
          "name": "stderr",
          "output_type": "stream",
          "text": [
            "<ipython-input-31-bd5326372128>:7: UserWarning:\n",
            "\n",
            "\n",
            "\n",
            "`distplot` is a deprecated function and will be removed in seaborn v0.14.0.\n",
            "\n",
            "Please adapt your code to use either `displot` (a figure-level function with\n",
            "similar flexibility) or `histplot` (an axes-level function for histograms).\n",
            "\n",
            "For a guide to updating your code to use the new functions, please see\n",
            "https://gist.github.com/mwaskom/de44147ed2974457ad6372750bbe5751\n",
            "\n",
            "\n",
            "<ipython-input-31-bd5326372128>:8: UserWarning:\n",
            "\n",
            "\n",
            "\n",
            "`distplot` is a deprecated function and will be removed in seaborn v0.14.0.\n",
            "\n",
            "Please adapt your code to use either `displot` (a figure-level function with\n",
            "similar flexibility) or `histplot` (an axes-level function for histograms).\n",
            "\n",
            "For a guide to updating your code to use the new functions, please see\n",
            "https://gist.github.com/mwaskom/de44147ed2974457ad6372750bbe5751\n",
            "\n",
            "\n"
          ]
        },
        {
          "data": {
            "image/png": "[encoded data removed]",
            "text/plain": [
              "<Figure size 1200x800 with 2 Axes>"
            ]
          },
          "metadata": {},
          "output_type": "display_data"
        }
      ],
      "source": [
        "plt.figure(figsize=(12, 8))\n",
        "\n",
        "plt.subplot(1,2,1)\n",
        "sns.violinplot(x = 'is_duplicate', y = 'word_Common', data = df[0:])\n",
        "\n",
        "plt.subplot(1,2,2)\n",
        "sns.distplot(df[df['is_duplicate'] == 1.0]['word_Common'][0:] , label = \"1\", color = 'red')\n",
        "sns.distplot(df[df['is_duplicate'] == 0.0]['word_Common'][0:] , label = \"0\" , color = 'blue' )\n",
        "plt.show()"
      ]
    },
    {
      "cell_type": "markdown",
      "metadata": {
        "id": "9Ej1ouEVs5YR"
      },
      "source": [
        "<p> The distributions of the word_Common feature in similar and non-similar questions are highly overlapping </p>"
      ]
    },
    {
      "cell_type": "code",
      "execution_count": null,
      "metadata": {
        "id": "JRXewOWPegQa"
      },
      "outputs": [],
      "source": [
        "!cp /content/df_new_without_preprocessing_train.csv /content/drive/MyDrive/Project_gova"
      ]
    },
    {
      "cell_type": "code",
      "source": [
        "df.shape"
      ],
      "metadata": {
        "colab": {
          "base_uri": "https://localhost:8080/"
        },
        "id": "R3-rKHZmGyN5",
        "outputId": "9112b35a-cd59-4ff5-a67d-86b4a3d4b369"
      },
      "execution_count": null,
      "outputs": [
        {
          "output_type": "execute_result",
          "data": {
            "text/plain": [
              "(101072, 17)"
            ]
          },
          "metadata": {},
          "execution_count": 52
        }
      ]
    },
    {
      "cell_type": "code",
      "source": [],
      "metadata": {
        "id": "AKKDmHu2W47K"
      },
      "execution_count": null,
      "outputs": []
    }
  ],
  "metadata": {
    "colab": {
      "provenance": [],
      "toc_visible": true
    },
    "kernelspec": {
      "display_name": "Python 3",
      "language": "python",
      "name": "python3"
    }
  },
  "nbformat": 4,
  "nbformat_minor": 0
}